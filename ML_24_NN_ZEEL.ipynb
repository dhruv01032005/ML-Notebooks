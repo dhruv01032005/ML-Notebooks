{
  "cells": [
    {
      "cell_type": "markdown",
      "source": [
        "### AUTHOR - ZEEL B PATEL"
      ],
      "metadata": {
        "id": "5m54XuWCsYVe"
      }
    },
    {
      "cell_type": "markdown",
      "metadata": {
        "id": "P_1DPCdadDU7"
      },
      "source": [
        "# Introduction to Neural Networks"
      ]
    },
    {
      "cell_type": "markdown",
      "metadata": {
        "id": "rPOaWUHhdDU_"
      },
      "source": [
        "## Imports"
      ]
    },
    {
      "cell_type": "code",
      "execution_count": null,
      "metadata": {
        "id": "yNW4q_6JdDVA"
      },
      "outputs": [],
      "source": [
        "import torch\n",
        "import torch.nn as nn\n",
        "import torch.nn.functional as F"
      ]
    },
    {
      "cell_type": "markdown",
      "metadata": {
        "id": "427YcyfUdDVD"
      },
      "source": [
        "## Convention"
      ]
    },
    {
      "cell_type": "code",
      "execution_count": null,
      "metadata": {
        "colab": {
          "base_uri": "https://localhost:8080/"
        },
        "id": "OLLB9Zy2dDVD",
        "outputId": "18404339-4ae2-43d4-e35a-b88b1de4b41f"
      },
      "outputs": [
        {
          "output_type": "execute_result",
          "data": {
            "text/plain": [
              "Linear(in_features=3, out_features=2, bias=True)"
            ]
          },
          "metadata": {},
          "execution_count": 2
        }
      ],
      "source": [
        "n0 = 3\n",
        "n1 = 2\n",
        "layer = nn.Linear(n0, n1)\n",
        "layer"
      ]
    },
    {
      "cell_type": "code",
      "execution_count": null,
      "metadata": {
        "colab": {
          "base_uri": "https://localhost:8080/"
        },
        "id": "N3qQ_2owdDVF",
        "outputId": "8ffd2fc2-1a62-4643-9533-d9dafff5f689"
      },
      "outputs": [
        {
          "output_type": "execute_result",
          "data": {
            "text/plain": [
              "torch.Size([2, 3])"
            ]
          },
          "metadata": {},
          "execution_count": 3
        }
      ],
      "source": [
        "layer.weight.shape"
      ]
    },
    {
      "cell_type": "code",
      "execution_count": null,
      "metadata": {
        "colab": {
          "base_uri": "https://localhost:8080/"
        },
        "id": "7WT2HV9JdDVG",
        "outputId": "f37d0a31-247d-4da4-f859-4ea1cd92a088"
      },
      "outputs": [
        {
          "output_type": "execute_result",
          "data": {
            "text/plain": [
              "torch.Size([2])"
            ]
          },
          "metadata": {},
          "execution_count": 4
        }
      ],
      "source": [
        "layer.bias.shape"
      ]
    },
    {
      "cell_type": "code",
      "execution_count": null,
      "metadata": {
        "colab": {
          "base_uri": "https://localhost:8080/"
        },
        "id": "vEO9RgFQdDVH",
        "outputId": "b6a907e0-664d-4e82-8ee1-ea29f572957a"
      },
      "outputs": [
        {
          "output_type": "stream",
          "name": "stdout",
          "text": [
            "tensor(-0.5629, grad_fn=<SelectBackward0>)\n",
            "tensor(-0.4873, grad_fn=<SelectBackward0>)\n",
            "tensor(-0.1570, grad_fn=<SelectBackward0>)\n"
          ]
        }
      ],
      "source": [
        "for i in range(n0):\n",
        "    print(layer.weight[0, i])"
      ]
    },
    {
      "cell_type": "markdown",
      "metadata": {
        "id": "58pK4kKldDVH"
      },
      "source": [
        "### A 2-layer network"
      ]
    },
    {
      "cell_type": "code",
      "execution_count": null,
      "metadata": {
        "id": "9ndCSpnVdDVI"
      },
      "outputs": [],
      "source": [
        "mlp_2layers = nn.Sequential(\n",
        "    nn.Linear(4, 3),\n",
        "    nn.ReLU(),\n",
        "    nn.Linear(3, 2),\n",
        "    nn.ReLU(),\n",
        "    nn.Linear(2, 1)\n",
        ")"
      ]
    },
    {
      "cell_type": "code",
      "execution_count": null,
      "metadata": {
        "colab": {
          "base_uri": "https://localhost:8080/"
        },
        "id": "DDYnizXAdDVK",
        "outputId": "add885f7-c169-4661-8e38-0f76e397315d"
      },
      "outputs": [
        {
          "output_type": "execute_result",
          "data": {
            "text/plain": [
              "{'0.weight': torch.Size([3, 4]),\n",
              " '0.bias': torch.Size([3]),\n",
              " '2.weight': torch.Size([2, 3]),\n",
              " '2.bias': torch.Size([2]),\n",
              " '4.weight': torch.Size([1, 2]),\n",
              " '4.bias': torch.Size([1])}"
            ]
          },
          "metadata": {},
          "execution_count": 7
        }
      ],
      "source": [
        "params = dict(mlp_2layers.named_parameters())\n",
        "{name: param.shape for name, param in params.items()}"
      ]
    },
    {
      "cell_type": "markdown",
      "metadata": {
        "id": "ztSC27F9dDVL"
      },
      "source": [
        "## Vectorization with `torch.vmap`"
      ]
    },
    {
      "cell_type": "code",
      "source": [
        "!pip install jaxtyping\n",
        "!pip install beartype"
      ],
      "metadata": {
        "colab": {
          "base_uri": "https://localhost:8080/"
        },
        "id": "Dn9mYalsdwBH",
        "outputId": "33f44cf5-6d3e-41df-e455-16215ddc6726"
      },
      "execution_count": null,
      "outputs": [
        {
          "output_type": "stream",
          "name": "stdout",
          "text": [
            "Collecting jaxtyping\n",
            "  Downloading jaxtyping-0.2.36-py3-none-any.whl.metadata (6.5 kB)\n",
            "Downloading jaxtyping-0.2.36-py3-none-any.whl (55 kB)\n",
            "\u001b[?25l   \u001b[90m━━━━━━━━━━━━━━━━━━━━━━━━━━━━━━━━━━━━━━━━\u001b[0m \u001b[32m0.0/55.8 kB\u001b[0m \u001b[31m?\u001b[0m eta \u001b[36m-:--:--\u001b[0m\r\u001b[2K   \u001b[90m━━━━━━━━━━━━━━━━━━━━━━━━━━━━━━━━━━━━━━━━\u001b[0m \u001b[32m55.8/55.8 kB\u001b[0m \u001b[31m2.8 MB/s\u001b[0m eta \u001b[36m0:00:00\u001b[0m\n",
            "\u001b[?25hInstalling collected packages: jaxtyping\n",
            "Successfully installed jaxtyping-0.2.36\n",
            "Collecting beartype\n",
            "  Downloading beartype-0.19.0-py3-none-any.whl.metadata (32 kB)\n",
            "Downloading beartype-0.19.0-py3-none-any.whl (1.0 MB)\n",
            "\u001b[2K   \u001b[90m━━━━━━━━━━━━━━━━━━━━━━━━━━━━━━━━━━━━━━━━\u001b[0m \u001b[32m1.0/1.0 MB\u001b[0m \u001b[31m16.1 MB/s\u001b[0m eta \u001b[36m0:00:00\u001b[0m\n",
            "\u001b[?25hInstalling collected packages: beartype\n",
            "Successfully installed beartype-0.19.0\n"
          ]
        }
      ]
    },
    {
      "cell_type": "code",
      "execution_count": null,
      "metadata": {
        "id": "0mGXvFgPdDVL"
      },
      "outputs": [],
      "source": [
        "from jaxtyping import Float\n",
        "from torch import Tensor\n",
        "from beartype import beartype"
      ]
    },
    {
      "cell_type": "markdown",
      "metadata": {
        "id": "py1WOuCudDVM"
      },
      "source": [
        "### Quick intro to jaxtyping"
      ]
    },
    {
      "cell_type": "markdown",
      "metadata": {
        "id": "nyTcmTf8dDVM"
      },
      "source": [
        "#### Scalars"
      ]
    },
    {
      "cell_type": "code",
      "execution_count": null,
      "metadata": {
        "id": "HXSmFgZhdDVN"
      },
      "outputs": [],
      "source": [
        "scalar_type = Float[Tensor, \"\"]"
      ]
    },
    {
      "cell_type": "code",
      "execution_count": null,
      "metadata": {
        "colab": {
          "base_uri": "https://localhost:8080/"
        },
        "id": "hDDpYgz9dDVO",
        "outputId": "7f63a477-90f8-4d8e-8d18-359531bbcb40"
      },
      "outputs": [
        {
          "output_type": "execute_result",
          "data": {
            "text/plain": [
              "torch.Size([])"
            ]
          },
          "metadata": {},
          "execution_count": 12
        }
      ],
      "source": [
        "scalar = torch.tensor(1.0)\n",
        "scalar.shape"
      ]
    },
    {
      "cell_type": "code",
      "execution_count": null,
      "metadata": {
        "colab": {
          "base_uri": "https://localhost:8080/"
        },
        "id": "T2qTB-gldDVP",
        "outputId": "f50cf7be-828f-4ae0-c32a-3a343d9352a4"
      },
      "outputs": [
        {
          "output_type": "execute_result",
          "data": {
            "text/plain": [
              "True"
            ]
          },
          "metadata": {},
          "execution_count": 13
        }
      ],
      "source": [
        "isinstance(scalar, scalar_type)"
      ]
    },
    {
      "cell_type": "code",
      "execution_count": null,
      "metadata": {
        "colab": {
          "base_uri": "https://localhost:8080/"
        },
        "id": "qn2QJmlHdDVQ",
        "outputId": "992a37d2-a45b-48f2-f27d-f14e708b8303"
      },
      "outputs": [
        {
          "output_type": "execute_result",
          "data": {
            "text/plain": [
              "torch.Size([1])"
            ]
          },
          "metadata": {},
          "execution_count": 14
        }
      ],
      "source": [
        "non_scalar = torch.tensor([1.0])\n",
        "non_scalar.shape"
      ]
    },
    {
      "cell_type": "code",
      "execution_count": null,
      "metadata": {
        "colab": {
          "base_uri": "https://localhost:8080/"
        },
        "id": "bFY-4uOEdDVR",
        "outputId": "815e82f2-b025-42ef-f20a-dc1855aabd2f"
      },
      "outputs": [
        {
          "output_type": "execute_result",
          "data": {
            "text/plain": [
              "False"
            ]
          },
          "metadata": {},
          "execution_count": 15
        }
      ],
      "source": [
        "isinstance(non_scalar, scalar_type)"
      ]
    },
    {
      "cell_type": "markdown",
      "metadata": {
        "id": "Y00-H3AzdDVR"
      },
      "source": [
        "#### Vectors"
      ]
    },
    {
      "cell_type": "code",
      "execution_count": null,
      "metadata": {
        "id": "OmyT1gV8dDVS"
      },
      "outputs": [],
      "source": [
        "vector_type = Float[Tensor, \"n0\"]"
      ]
    },
    {
      "cell_type": "code",
      "execution_count": null,
      "metadata": {
        "colab": {
          "base_uri": "https://localhost:8080/"
        },
        "id": "5NoN24zXdDVS",
        "outputId": "b087388f-49aa-457c-ce07-343c63ba207d"
      },
      "outputs": [
        {
          "output_type": "execute_result",
          "data": {
            "text/plain": [
              "True"
            ]
          },
          "metadata": {},
          "execution_count": 17
        }
      ],
      "source": [
        "isinstance(non_scalar, vector_type)"
      ]
    },
    {
      "cell_type": "code",
      "execution_count": null,
      "metadata": {
        "colab": {
          "base_uri": "https://localhost:8080/"
        },
        "id": "O9-D8ct7dDVT",
        "outputId": "39469c6f-0b05-4f61-c111-133dc3107d60"
      },
      "outputs": [
        {
          "output_type": "execute_result",
          "data": {
            "text/plain": [
              "torch.Size([2])"
            ]
          },
          "metadata": {},
          "execution_count": 18
        }
      ],
      "source": [
        "vector = torch.tensor([1.0, 2.0])\n",
        "vector.shape"
      ]
    },
    {
      "cell_type": "code",
      "execution_count": null,
      "metadata": {
        "colab": {
          "base_uri": "https://localhost:8080/"
        },
        "id": "Xpb7FKZ5dDVT",
        "outputId": "b9ad20a5-fb78-4188-ac52-c7d410533b9c"
      },
      "outputs": [
        {
          "output_type": "execute_result",
          "data": {
            "text/plain": [
              "True"
            ]
          },
          "metadata": {},
          "execution_count": 19
        }
      ],
      "source": [
        "isinstance(vector, vector_type)"
      ]
    },
    {
      "cell_type": "markdown",
      "metadata": {
        "id": "hxKaXEJydDVT"
      },
      "source": [
        "#### Matrices"
      ]
    },
    {
      "cell_type": "code",
      "execution_count": null,
      "metadata": {
        "id": "fJY-OmcddDVT"
      },
      "outputs": [],
      "source": [
        "matrix_type = Float[Tensor, \"n0 n1\"]"
      ]
    },
    {
      "cell_type": "code",
      "execution_count": null,
      "metadata": {
        "colab": {
          "base_uri": "https://localhost:8080/"
        },
        "id": "dEJn1DF1dDVU",
        "outputId": "6307d0a7-8e81-423c-e3a9-14b546c3aae7"
      },
      "outputs": [
        {
          "output_type": "execute_result",
          "data": {
            "text/plain": [
              "False"
            ]
          },
          "metadata": {},
          "execution_count": 21
        }
      ],
      "source": [
        "isinstance(vector, matrix_type)"
      ]
    },
    {
      "cell_type": "code",
      "execution_count": null,
      "metadata": {
        "colab": {
          "base_uri": "https://localhost:8080/"
        },
        "id": "xzp2gfHWdDVU",
        "outputId": "114d23e6-605b-4613-e991-84f5ac5c5480"
      },
      "outputs": [
        {
          "output_type": "execute_result",
          "data": {
            "text/plain": [
              "torch.Size([1, 2])"
            ]
          },
          "metadata": {},
          "execution_count": 22
        }
      ],
      "source": [
        "matrix = torch.tensor([[1.0, 2.0]])\n",
        "matrix.shape"
      ]
    },
    {
      "cell_type": "code",
      "execution_count": null,
      "metadata": {
        "colab": {
          "base_uri": "https://localhost:8080/"
        },
        "id": "dEJZXIQadDVU",
        "outputId": "660c41c0-3ea6-4fa7-bb56-216ee2e8393b"
      },
      "outputs": [
        {
          "output_type": "execute_result",
          "data": {
            "text/plain": [
              "True"
            ]
          },
          "metadata": {},
          "execution_count": 23
        }
      ],
      "source": [
        "isinstance(matrix, matrix_type)"
      ]
    },
    {
      "cell_type": "code",
      "execution_count": null,
      "metadata": {
        "colab": {
          "base_uri": "https://localhost:8080/"
        },
        "id": "qwKVABZxdDVV",
        "outputId": "0b966aeb-7dec-4218-a7aa-1e724c5f47af"
      },
      "outputs": [
        {
          "output_type": "execute_result",
          "data": {
            "text/plain": [
              "torch.Size([2, 3])"
            ]
          },
          "metadata": {},
          "execution_count": 24
        }
      ],
      "source": [
        "another_matrix = torch.tensor([[1.0, 2.0, 3.0], [4.0, 5.0, 6.0]])\n",
        "another_matrix.shape"
      ]
    },
    {
      "cell_type": "code",
      "execution_count": null,
      "metadata": {
        "colab": {
          "base_uri": "https://localhost:8080/"
        },
        "id": "g-Lt0gS8dDVV",
        "outputId": "e16124af-9f8b-44bf-f7fa-6c42f9adb0e2"
      },
      "outputs": [
        {
          "output_type": "execute_result",
          "data": {
            "text/plain": [
              "True"
            ]
          },
          "metadata": {},
          "execution_count": 25
        }
      ],
      "source": [
        "isinstance(another_matrix, matrix_type)"
      ]
    },
    {
      "cell_type": "markdown",
      "metadata": {
        "id": "OXO_beZmdDVW"
      },
      "source": [
        "#### Tensors"
      ]
    },
    {
      "cell_type": "code",
      "execution_count": null,
      "metadata": {
        "id": "2lQsWeNEdDVX"
      },
      "outputs": [],
      "source": [
        "tensor_type = Float[Tensor, \"n0 n1 n2\"]"
      ]
    },
    {
      "cell_type": "code",
      "execution_count": null,
      "metadata": {
        "colab": {
          "base_uri": "https://localhost:8080/"
        },
        "id": "5bv0IqSrdDVX",
        "outputId": "f2c02147-5543-4653-ca7c-0b85b2e2fa0d"
      },
      "outputs": [
        {
          "output_type": "execute_result",
          "data": {
            "text/plain": [
              "torch.Size([2, 2, 2])"
            ]
          },
          "metadata": {},
          "execution_count": 27
        }
      ],
      "source": [
        "tensor = torch.tensor([[[1.0, 2.0], [3.0, 4.0]], [[5.0, 6.0], [7.0, 8.0]]])\n",
        "tensor.shape"
      ]
    },
    {
      "cell_type": "code",
      "execution_count": null,
      "metadata": {
        "colab": {
          "base_uri": "https://localhost:8080/"
        },
        "id": "z0kB0WYodDVb",
        "outputId": "e4b2d07f-30e3-418e-b3e1-4dc7dc6976cc"
      },
      "outputs": [
        {
          "output_type": "execute_result",
          "data": {
            "text/plain": [
              "True"
            ]
          },
          "metadata": {},
          "execution_count": 28
        }
      ],
      "source": [
        "isinstance(tensor, tensor_type)"
      ]
    },
    {
      "cell_type": "markdown",
      "metadata": {
        "id": "0mZHeCYJdDVc"
      },
      "source": [
        "### Quick intro to beartype"
      ]
    },
    {
      "cell_type": "code",
      "execution_count": null,
      "metadata": {
        "id": "3ZKNeJgzdDVc"
      },
      "outputs": [],
      "source": [
        "def call_my_name(name):\n",
        "    return f\"Hello, {name}!\""
      ]
    },
    {
      "cell_type": "code",
      "execution_count": null,
      "metadata": {
        "colab": {
          "base_uri": "https://localhost:8080/",
          "height": 35
        },
        "id": "V5fMHd2FdDVd",
        "outputId": "d6cff8e6-5e4b-4c51-a499-d9a7e7658259"
      },
      "outputs": [
        {
          "output_type": "execute_result",
          "data": {
            "text/plain": [
              "'Hello, John!'"
            ],
            "application/vnd.google.colaboratory.intrinsic+json": {
              "type": "string"
            }
          },
          "metadata": {},
          "execution_count": 30
        }
      ],
      "source": [
        "call_my_name(\"John\")"
      ]
    },
    {
      "cell_type": "code",
      "execution_count": null,
      "metadata": {
        "colab": {
          "base_uri": "https://localhost:8080/",
          "height": 35
        },
        "id": "TuQ5gZoWdDVf",
        "outputId": "5ea069b9-b3a3-485d-8177-9e2c0b0f7de7"
      },
      "outputs": [
        {
          "output_type": "execute_result",
          "data": {
            "text/plain": [
              "'Hello, 123!'"
            ],
            "application/vnd.google.colaboratory.intrinsic+json": {
              "type": "string"
            }
          },
          "metadata": {},
          "execution_count": 31
        }
      ],
      "source": [
        "call_my_name(123)"
      ]
    },
    {
      "cell_type": "code",
      "execution_count": null,
      "metadata": {
        "id": "MTthPI_ddDVf"
      },
      "outputs": [],
      "source": [
        "@beartype\n",
        "def secured_call_my_name(name: str) -> str:\n",
        "    return f\"Hello, {name}!\""
      ]
    },
    {
      "cell_type": "code",
      "execution_count": null,
      "metadata": {
        "colab": {
          "base_uri": "https://localhost:8080/",
          "height": 35
        },
        "id": "lev8qMmxdDVg",
        "outputId": "05a2762d-1209-4b19-e205-4ff0b533d19e"
      },
      "outputs": [
        {
          "output_type": "execute_result",
          "data": {
            "text/plain": [
              "'Hello, John!'"
            ],
            "application/vnd.google.colaboratory.intrinsic+json": {
              "type": "string"
            }
          },
          "metadata": {},
          "execution_count": 33
        }
      ],
      "source": [
        "secured_call_my_name(\"John\")"
      ]
    },
    {
      "cell_type": "code",
      "execution_count": null,
      "metadata": {
        "colab": {
          "base_uri": "https://localhost:8080/",
          "height": 193
        },
        "id": "yIq4j2lIdDVg",
        "outputId": "b1309d7d-4ebd-4294-913c-c256daeb2f67"
      },
      "outputs": [
        {
          "output_type": "error",
          "ename": "BeartypeCallHintParamViolation",
          "evalue": "Function __main__.secured_call_my_name() parameter name=123 violates type hint <class 'str'>, as int 123 not instance of str.",
          "traceback": [
            "\u001b[0;31m---------------------------------------------------------------------------\u001b[0m",
            "\u001b[0;31mBeartypeCallHintParamViolation\u001b[0m            Traceback (most recent call last)",
            "\u001b[0;32m<ipython-input-34-b52c82a72693>\u001b[0m in \u001b[0;36m<cell line: 0>\u001b[0;34m()\u001b[0m\n\u001b[0;32m----> 1\u001b[0;31m \u001b[0msecured_call_my_name\u001b[0m\u001b[0;34m(\u001b[0m\u001b[0;36m123\u001b[0m\u001b[0;34m)\u001b[0m\u001b[0;34m\u001b[0m\u001b[0;34m\u001b[0m\u001b[0m\n\u001b[0m",
            "\u001b[0;32m<@beartype(__main__.secured_call_my_name) at 0x7f6062ae1940>\u001b[0m in \u001b[0;36msecured_call_my_name\u001b[0;34m(__beartype_get_violation, __beartype_conf, __beartype_check_meta, __beartype_func, *args, **kwargs)\u001b[0m\n",
            "\u001b[0;31mBeartypeCallHintParamViolation\u001b[0m: Function __main__.secured_call_my_name() parameter name=123 violates type hint <class 'str'>, as int 123 not instance of str."
          ]
        }
      ],
      "source": [
        "secured_call_my_name(123)"
      ]
    },
    {
      "cell_type": "markdown",
      "metadata": {
        "id": "L898MsoRdDVg"
      },
      "source": [
        "### Vectorization"
      ]
    },
    {
      "cell_type": "markdown",
      "metadata": {
        "id": "UFs0h-uWdDVh"
      },
      "source": [
        "On which dimensions should we apply the vectorization?\n",
        "- Current layer's neurons size\n",
        "- Number of examples"
      ]
    },
    {
      "cell_type": "code",
      "execution_count": null,
      "metadata": {
        "colab": {
          "base_uri": "https://localhost:8080/"
        },
        "id": "yAsP4skgdDVh",
        "outputId": "826bd93c-4436-46e4-922e-a9406bd51f03"
      },
      "outputs": [
        {
          "output_type": "execute_result",
          "data": {
            "text/plain": [
              "torch.Size([50, 3])"
            ]
          },
          "metadata": {},
          "execution_count": 35
        }
      ],
      "source": [
        "n = 50\n",
        "a = torch.rand(n, n0)\n",
        "a.shape"
      ]
    },
    {
      "cell_type": "code",
      "execution_count": null,
      "metadata": {
        "id": "WpN2tSfUdDVh"
      },
      "outputs": [],
      "source": [
        "activation = F.relu\n",
        "\n",
        "@beartype\n",
        "def forward(a: Float[Tensor, \"n0\"], w: Float[Tensor, \"n0\"], b: Float[Tensor, \"\"]) -> Float[Tensor, \"\"]:\n",
        "    z = (a * w).sum() + b  # () * () + () -> ()\n",
        "    a = activation(z)  # () -> ()\n",
        "    return a  # ()"
      ]
    },
    {
      "cell_type": "code",
      "execution_count": null,
      "metadata": {
        "colab": {
          "base_uri": "https://localhost:8080/"
        },
        "id": "IbdQaEFPdDVi",
        "outputId": "e8fa4e97-4e1c-4d16-82ec-543e37866ac6"
      },
      "outputs": [
        {
          "output_type": "stream",
          "name": "stdout",
          "text": [
            "torch.Size([3]) torch.Size([3]) torch.Size([])\n"
          ]
        }
      ],
      "source": [
        "dummy_a = torch.rand(n0)\n",
        "dummy_w = torch.rand(n0)\n",
        "dummy_b = torch.rand(())\n",
        "print(dummy_a.shape, dummy_w.shape, dummy_b.shape)"
      ]
    },
    {
      "cell_type": "code",
      "execution_count": null,
      "metadata": {
        "colab": {
          "base_uri": "https://localhost:8080/"
        },
        "id": "KGhbGndKdDVi",
        "outputId": "1bbe2abf-b823-4d95-e995-0be5b8f3b549"
      },
      "outputs": [
        {
          "output_type": "execute_result",
          "data": {
            "text/plain": [
              "torch.Size([])"
            ]
          },
          "metadata": {},
          "execution_count": 38
        }
      ],
      "source": [
        "forward(dummy_a, dummy_w, dummy_b).shape"
      ]
    },
    {
      "cell_type": "code",
      "execution_count": null,
      "metadata": {
        "colab": {
          "base_uri": "https://localhost:8080/"
        },
        "id": "2qoYB_7xdDVi",
        "outputId": "b7d5f7f6-9596-4684-c03f-8f6f65208675"
      },
      "outputs": [
        {
          "output_type": "execute_result",
          "data": {
            "text/plain": [
              "tensor(0., grad_fn=<ReluBackward0>)"
            ]
          },
          "metadata": {},
          "execution_count": 39
        }
      ],
      "source": [
        "forward(a[0], layer.weight[0], layer.bias[0])"
      ]
    },
    {
      "cell_type": "markdown",
      "metadata": {
        "id": "OdEl5r15dDVj"
      },
      "source": [
        "#### Vectorization over current layer's neurons size"
      ]
    },
    {
      "cell_type": "markdown",
      "metadata": {
        "id": "lTGGhvEPdDVj"
      },
      "source": [
        "| input | shape in forward | shape in vectorized forward |\n",
        "| --- | --- | --- |\n",
        "| a | [n0=3] | [n0=3] |\n",
        "| w | [n0=3] | [n1=2, n0=3] |\n",
        "| b | [] | [n1=2] |\n",
        "| output | [] | [n1=2] |"
      ]
    },
    {
      "cell_type": "code",
      "execution_count": null,
      "metadata": {
        "id": "v09hshJqdDVj"
      },
      "outputs": [],
      "source": [
        "v1_forward = torch.vmap(forward, in_dims=(None, 0, 0), out_dims=0)"
      ]
    },
    {
      "cell_type": "code",
      "execution_count": null,
      "metadata": {
        "colab": {
          "base_uri": "https://localhost:8080/"
        },
        "id": "t3H3BhXKdDVk",
        "outputId": "fb2466c0-3ce8-4363-e973-480c2d98f25e"
      },
      "outputs": [
        {
          "output_type": "execute_result",
          "data": {
            "text/plain": [
              "torch.Size([2, 3])"
            ]
          },
          "metadata": {},
          "execution_count": 41
        }
      ],
      "source": [
        "layer.weight.shape"
      ]
    },
    {
      "cell_type": "code",
      "execution_count": null,
      "metadata": {
        "colab": {
          "base_uri": "https://localhost:8080/"
        },
        "id": "76etKpDSdDVk",
        "outputId": "c830a643-845b-4c1a-f4f8-b68f7dff8f67"
      },
      "outputs": [
        {
          "output_type": "execute_result",
          "data": {
            "text/plain": [
              "torch.Size([2])"
            ]
          },
          "metadata": {},
          "execution_count": 42
        }
      ],
      "source": [
        "layer.bias.shape"
      ]
    },
    {
      "cell_type": "code",
      "execution_count": null,
      "metadata": {
        "colab": {
          "base_uri": "https://localhost:8080/"
        },
        "id": "QYx0juGCdDVl",
        "outputId": "e08848cc-6103-4ddf-d37a-a68043042fd3"
      },
      "outputs": [
        {
          "output_type": "execute_result",
          "data": {
            "text/plain": [
              "torch.Size([2])"
            ]
          },
          "metadata": {},
          "execution_count": 43
        }
      ],
      "source": [
        "out = v1_forward(a[0], layer.weight, layer.bias)\n",
        "out.shape"
      ]
    },
    {
      "cell_type": "markdown",
      "metadata": {
        "id": "nJncWflDdDVm"
      },
      "source": [
        "#### Vectorization over number of examples"
      ]
    },
    {
      "cell_type": "markdown",
      "metadata": {
        "id": "WQ_nnIBRdDVm"
      },
      "source": [
        "| input | shape in forward | shape in vectorized forward |\n",
        "| --- | --- | --- |\n",
        "| a | [n0=3] | [n=50, n0=3] |\n",
        "| w | [n1=2, n0=3] | [n1=2, n0=3] |\n",
        "| b | [n1=2] | [n1=2] |\n",
        "| output | [n1=2] | [n=50, n1=2] |"
      ]
    },
    {
      "cell_type": "code",
      "execution_count": null,
      "metadata": {
        "id": "dldktFmadDVn"
      },
      "outputs": [],
      "source": [
        "v2_forward = torch.vmap(v1_forward, in_dims=(0, None, None), out_dims=0)"
      ]
    },
    {
      "cell_type": "code",
      "execution_count": null,
      "metadata": {
        "colab": {
          "base_uri": "https://localhost:8080/"
        },
        "id": "eF7MTVz4dDVn",
        "outputId": "bde74338-c010-48a3-cf3f-318f025117e3"
      },
      "outputs": [
        {
          "output_type": "execute_result",
          "data": {
            "text/plain": [
              "torch.Size([50, 2])"
            ]
          },
          "metadata": {},
          "execution_count": 45
        }
      ],
      "source": [
        "final_out = v2_forward(a, layer.weight, layer.bias)\n",
        "final_out.shape"
      ]
    },
    {
      "cell_type": "markdown",
      "metadata": {
        "id": "uTkoHv_fdDVn"
      },
      "source": [
        "#### Comparing with torch model forward pass"
      ]
    },
    {
      "cell_type": "code",
      "execution_count": null,
      "metadata": {
        "colab": {
          "base_uri": "https://localhost:8080/"
        },
        "id": "dxC8a0fOdDVo",
        "outputId": "b8f40527-3bdc-4e14-88f4-8cfae8a17c94"
      },
      "outputs": [
        {
          "output_type": "execute_result",
          "data": {
            "text/plain": [
              "True"
            ]
          },
          "metadata": {},
          "execution_count": 46
        }
      ],
      "source": [
        "layer_out = F.relu(layer(a))\n",
        "torch.allclose(final_out, layer_out)"
      ]
    },
    {
      "cell_type": "markdown",
      "metadata": {
        "id": "lPFke5mxdDVp"
      },
      "source": [
        "## XOR example"
      ]
    },
    {
      "cell_type": "markdown",
      "metadata": {
        "id": "58mxWUKBdDVq"
      },
      "source": [
        "### Define inputs, outputs, weights and biases"
      ]
    },
    {
      "cell_type": "code",
      "execution_count": null,
      "metadata": {
        "colab": {
          "base_uri": "https://localhost:8080/"
        },
        "id": "HJjfFDtndDVr",
        "outputId": "35db8aa3-2f6c-42f0-ab04-398d56765437"
      },
      "outputs": [
        {
          "output_type": "stream",
          "name": "stdout",
          "text": [
            "tensor([[0., 0.],\n",
            "        [0., 1.],\n",
            "        [1., 0.],\n",
            "        [1., 1.]])\n",
            "torch.Size([4, 2])\n"
          ]
        }
      ],
      "source": [
        "xor_x = torch.tensor([[0.0, 0.0], [0.0, 1.0], [1.0, 0.0], [1.0, 1.0]])\n",
        "print(xor_x)\n",
        "print(xor_x.shape)"
      ]
    },
    {
      "cell_type": "code",
      "execution_count": null,
      "metadata": {
        "colab": {
          "base_uri": "https://localhost:8080/"
        },
        "id": "eU54EeBwdDVr",
        "outputId": "80086d27-5043-41e7-f1c1-cf15a60924e3"
      },
      "outputs": [
        {
          "output_type": "stream",
          "name": "stdout",
          "text": [
            "tensor([[0.],\n",
            "        [1.],\n",
            "        [1.],\n",
            "        [0.]])\n",
            "torch.Size([4, 1])\n"
          ]
        }
      ],
      "source": [
        "xor_y = torch.tensor([[0.0], [1.0], [1.0], [0.0]])\n",
        "print(xor_y)\n",
        "print(xor_y.shape)"
      ]
    },
    {
      "cell_type": "code",
      "execution_count": null,
      "metadata": {
        "colab": {
          "base_uri": "https://localhost:8080/"
        },
        "id": "gn95OYMMdDVs",
        "outputId": "822d6075-ba4e-4f78-d9b0-214e0af3829c"
      },
      "outputs": [
        {
          "output_type": "stream",
          "name": "stdout",
          "text": [
            "tensor([[1., 1.],\n",
            "        [1., 1.]])\n",
            "tensor([ 0., -1.])\n",
            "torch.Size([2, 2]) torch.Size([2])\n"
          ]
        }
      ],
      "source": [
        "W_1 = torch.tensor([[1.0, 1.0], [1.0, 1.0]])\n",
        "b_1 = torch.tensor([0.0, -1.0])\n",
        "print(W_1)\n",
        "print(b_1)\n",
        "print(W_1.shape, b_1.shape)"
      ]
    },
    {
      "cell_type": "code",
      "execution_count": null,
      "metadata": {
        "colab": {
          "base_uri": "https://localhost:8080/"
        },
        "id": "UazYp8-NdDVs",
        "outputId": "04347e8a-bb8f-4f2a-afab-f06898575090"
      },
      "outputs": [
        {
          "output_type": "stream",
          "name": "stdout",
          "text": [
            "tensor([[ 1., -2.]])\n",
            "tensor([0.])\n",
            "torch.Size([1, 2]) torch.Size([1])\n"
          ]
        }
      ],
      "source": [
        "W_2 = torch.tensor([[1.0, -2.0]])\n",
        "b_2 = torch.tensor([0.0])\n",
        "print(W_2)\n",
        "print(b_2)\n",
        "print(W_2.shape, b_2.shape)"
      ]
    },
    {
      "cell_type": "markdown",
      "metadata": {
        "id": "9Q3yIXIKdDVt"
      },
      "source": [
        "### Forward pass"
      ]
    },
    {
      "cell_type": "code",
      "execution_count": null,
      "metadata": {
        "colab": {
          "base_uri": "https://localhost:8080/"
        },
        "id": "BQd3pwQ-dDVt",
        "outputId": "8bb1a499-4f38-407b-c2cd-958abf04f747"
      },
      "outputs": [
        {
          "output_type": "execute_result",
          "data": {
            "text/plain": [
              "tensor([[0., 0.],\n",
              "        [1., 0.],\n",
              "        [1., 0.],\n",
              "        [2., 1.]])"
            ]
          },
          "metadata": {},
          "execution_count": 51
        }
      ],
      "source": [
        "a1 = v2_forward(xor_x, W_1, b_1)\n",
        "a1"
      ]
    },
    {
      "cell_type": "code",
      "execution_count": null,
      "metadata": {
        "colab": {
          "base_uri": "https://localhost:8080/"
        },
        "id": "HzoyY4sedDVu",
        "outputId": "527114a8-b5a8-4617-87d9-39bae0134017"
      },
      "outputs": [
        {
          "output_type": "execute_result",
          "data": {
            "text/plain": [
              "tensor([[0.],\n",
              "        [1.],\n",
              "        [1.],\n",
              "        [0.]])"
            ]
          },
          "metadata": {},
          "execution_count": 52
        }
      ],
      "source": [
        "a2 = v2_forward(a1, W_2, b_2)\n",
        "a2"
      ]
    },
    {
      "cell_type": "markdown",
      "metadata": {
        "id": "4dKNhp5TdDVv"
      },
      "source": [
        "### Forward pass with torch neural network"
      ]
    },
    {
      "cell_type": "code",
      "execution_count": null,
      "metadata": {
        "colab": {
          "base_uri": "https://localhost:8080/"
        },
        "id": "r84MNo5bdDVv",
        "outputId": "a65d4e2c-9d5c-4164-d08f-aead04359cb6"
      },
      "outputs": [
        {
          "output_type": "stream",
          "name": "stdout",
          "text": [
            "Linear(in_features=2, out_features=2, bias=True)\n",
            "ReLU()\n",
            "Linear(in_features=2, out_features=1, bias=True)\n"
          ]
        }
      ],
      "source": [
        "model = nn.Sequential(nn.Linear(2, 2), nn.ReLU(), nn.Linear(2, 1))\n",
        "print(model[0])\n",
        "print(model[1])\n",
        "print(model[2])"
      ]
    },
    {
      "cell_type": "code",
      "execution_count": null,
      "metadata": {
        "id": "Xh0XhRaedDVw"
      },
      "outputs": [],
      "source": [
        "model[0].weight.data = W_1\n",
        "model[0].bias.data = b_1\n",
        "model[2].weight.data = W_2\n",
        "model[2].bias.data = b_2"
      ]
    },
    {
      "cell_type": "code",
      "execution_count": null,
      "metadata": {
        "colab": {
          "base_uri": "https://localhost:8080/"
        },
        "id": "fEsDdRMPdDVw",
        "outputId": "a15ac059-3375-4d36-d56f-16fd93acabed"
      },
      "outputs": [
        {
          "output_type": "execute_result",
          "data": {
            "text/plain": [
              "tensor([[0.],\n",
              "        [1.],\n",
              "        [1.],\n",
              "        [0.]], grad_fn=<AddmmBackward0>)"
            ]
          },
          "metadata": {},
          "execution_count": 55
        }
      ],
      "source": [
        "model_out = model(xor_x)\n",
        "model_out"
      ]
    }
  ],
  "metadata": {
    "kernelspec": {
      "display_name": "torch_gpu_py311",
      "language": "python",
      "name": "python3"
    },
    "language_info": {
      "codemirror_mode": {
        "name": "ipython",
        "version": 3
      },
      "file_extension": ".py",
      "mimetype": "text/x-python",
      "name": "python",
      "nbconvert_exporter": "python",
      "pygments_lexer": "ipython3",
      "version": "3.11.6"
    },
    "colab": {
      "provenance": []
    }
  },
  "nbformat": 4,
  "nbformat_minor": 0
}